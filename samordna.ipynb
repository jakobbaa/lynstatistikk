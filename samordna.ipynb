{
 "cells": [
  {
   "cell_type": "code",
   "execution_count": null,
   "id": "7ae86770",
   "metadata": {},
   "outputs": [],
   "source": [
    "import pandas as pd\n",
    "\n",
    "# Last inn dataen, hopp over de to første linjene (metadata), bruk utf-16 og tab-separering\n",
    "df = pd.read_csv(\"Poenggrenser.csv\", encoding=\"utf-16\", sep=\"\\t\", skiprows=2)\n",
    "\n",
    "# Kolonnenavn: ordinær og førstegang fra 2015–2024\n",
    "ord_cols = [str(y) for y in range(2015, 2025)]         # Ordinær\n",
    "ordf_cols = [f\"{y}.1\" for y in range(2015, 2025)]       # Førstegang\n",
    "\n",
    "# Slå sammen poenggrenser: ORDF/ORD for hvert år\n",
    "for ord_col, ordf_col, year in zip(ord_cols, ordf_cols, range(2015, 2025)):\n",
    "    df[str(year)] = (\n",
    "        df[ordf_col].fillna(\"0,0\").astype(str) + \"/\" + df[ord_col].fillna(\"0,0\").astype(str)\n",
    "    )\n",
    "\n",
    "# Behold bare ønskede kolonner\n",
    "columns_to_keep = [\n",
    "    \"Studienavn\", \"Lærested\", \"Studiested\", \"Utdanningsområde og -type\"\n",
    "] + [str(y) for y in range(2015, 2025)]\n",
    "df = df[columns_to_keep]\n",
    "\n",
    "# Endre utdanningsområder til lesbare kategorier\n",
    "område_mapping = {\n",
    "    \"SIVILING\": \"Sivilingeniør\",\n",
    "    \"INGENIØR\": \"Ingeniør\",\n",
    "    \"REALFAG\": \"Realfag\",\n",
    "    \"INFOTEKN\": \"IT\"\n",
    "}\n",
    "df[\"Utdanningsområde og -type\"] = df[\"Utdanningsområde og -type\"].replace(område_mapping)\n",
    "\n",
    "# Lagre resultatet til ny CSV (valgfritt)\n",
    "df.to_csv(\"Poenggrenser_omstrukturert.csv\", index=False, encoding=\"utf-8-sig\", sep=\";\")"
   ]
  }
 ],
 "metadata": {
  "language_info": {
   "name": "python"
  }
 },
 "nbformat": 4,
 "nbformat_minor": 5
}
